{
 "cells": [
  {
   "cell_type": "code",
   "execution_count": 2,
   "metadata": {},
   "outputs": [
    {
     "name": "stdout",
     "output_type": "stream",
     "text": [
      "x1 = 2\n",
      "x2 = 4\n",
      "y1 = 4\n",
      "y2 = 4\n",
      "distance between two points is  2.0\n"
     ]
    }
   ],
   "source": [
    "# DISTANCE B/W TWO POINTS\n",
    "\n",
    "x1 = int(input('x1 = '))\n",
    "x2 = int(input('x2 = '))\n",
    "y1 = int(input('y1 = '))\n",
    "y2 = int(input('y2 = '))\n",
    "\n",
    "\n",
    "distance = ((x1 - x2)**2 + (y1 - y2)**2)**0.5\n",
    "\n",
    "print('distance between two points is ', distance)"
   ]
  },
  {
   "cell_type": "code",
   "execution_count": 3,
   "metadata": {},
   "outputs": [
    {
     "name": "stdout",
     "output_type": "stream",
     "text": [
      "enter units in feet = 5\n",
      "5 feet in centimeters =  152.4\n"
     ]
    }
   ],
   "source": [
    "# feet to cm convertor\n",
    "\n",
    "ft = int(input('enter units in feet = '))\n",
    "cm = ft*30.48\n",
    "\n",
    "print(ft, 'feet in centimeters = ', cm)"
   ]
  },
  {
   "cell_type": "code",
   "execution_count": 5,
   "metadata": {},
   "outputs": [
    {
     "name": "stdout",
     "output_type": "stream",
     "text": [
      "enter your height in centimeters180\n",
      "enter your weight in Kg75\n",
      "YOUR BMI =  23.148148148148145\n"
     ]
    }
   ],
   "source": [
    "# BMI CALCULATOR\n",
    "\n",
    "H = int(input('enter your height in centimeters'))\n",
    "W = int(input('enter your weight in Kg'))\n",
    "\n",
    "BMI = (W/H**2)*10000\n",
    "\n",
    "print('YOUR BMI = ', BMI)"
   ]
  },
  {
   "cell_type": "code",
   "execution_count": 9,
   "metadata": {},
   "outputs": [
    {
     "name": "stdout",
     "output_type": "stream",
     "text": [
      "Entern the value of n ...5\n",
      "Sum of n Positive integers till 5 = 15\n"
     ]
    }
   ],
   "source": [
    "# sum of n positive integers\n",
    "\n",
    "count = 0\n",
    "\n",
    "v = int(input('Entern the value of n ...'))\n",
    "for i in range(1,v+1):\n",
    "    count += i\n",
    "    \n",
    "print('Sum of n Positive integers till',v,'=',count)"
   ]
  },
  {
   "cell_type": "code",
   "execution_count": 10,
   "metadata": {},
   "outputs": [
    {
     "name": "stdout",
     "output_type": "stream",
     "text": [
      "Entern the value of n ...5\n",
      "Sum of n Positive integers till 5 = 15\n"
     ]
    }
   ],
   "source": [
    "# sum of n positive integers\n",
    "\n",
    "summ = 0\n",
    "\n",
    "v = int(input('Entern the value of n ...'))\n",
    "for i in range(1,v+1):\n",
    "    summ += i\n",
    "    \n",
    "print('Sum of n Positive integers till',v,'=',summ)"
   ]
  },
  {
   "cell_type": "code",
   "execution_count": 17,
   "metadata": {},
   "outputs": [
    {
     "name": "stdout",
     "output_type": "stream",
     "text": [
      "enter a number 45\n",
      "sum of digits in 45 = 9\n"
     ]
    }
   ],
   "source": [
    "# sum of digits of a number\n",
    "\n",
    "enter = 0\n",
    "number = input('enter a number ')\n",
    "for i in number:\n",
    "    i = int(i)\n",
    "    enter += i\n",
    "print('sum of digits in', number, '=', enter)   "
   ]
  },
  {
   "cell_type": "code",
   "execution_count": 14,
   "metadata": {},
   "outputs": [
    {
     "name": "stdout",
     "output_type": "stream",
     "text": [
      "Entern the value  ...   45\n",
      "the sum 45 is  9\n"
     ]
    }
   ],
   "source": [
    "\n",
    "c = 0\n",
    "number = input('Entern the value  ...   ')\n",
    "for i in number:\n",
    "    i = int(i)\n",
    "    c += i\n",
    "print('the sum',number,'is ',c)"
   ]
  },
  {
   "cell_type": "code",
   "execution_count": null,
   "metadata": {},
   "outputs": [],
   "source": []
  }
 ],
 "metadata": {
  "kernelspec": {
   "display_name": "Python 3",
   "language": "python",
   "name": "python3"
  },
  "language_info": {
   "codemirror_mode": {
    "name": "ipython",
    "version": 3
   },
   "file_extension": ".py",
   "mimetype": "text/x-python",
   "name": "python",
   "nbconvert_exporter": "python",
   "pygments_lexer": "ipython3",
   "version": "3.7.3"
  }
 },
 "nbformat": 4,
 "nbformat_minor": 2
}
